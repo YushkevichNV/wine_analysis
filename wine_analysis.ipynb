{
 "cells": [
  {
   "attachments": {},
   "cell_type": "markdown",
   "metadata": {},
   "source": [
    "## Библиотеки"
   ]
  },
  {
   "cell_type": "code",
   "execution_count": 93,
   "metadata": {},
   "outputs": [],
   "source": [
    "import os\n",
    "import pandas as pd\n",
    "import numpy as np\n",
    "import matplotlib.pyplot as plt\n",
    "import seaborn as sns\n",
    "\n",
    "import catboost\n",
    "from catboost import *\n",
    "\n",
    "from scipy.stats import spearmanr\n",
    "from sklearn.model_selection import train_test_split\n",
    "from sklearn.linear_model import LogisticRegression\n",
    "from sklearn.metrics import r2_score\n",
    "\n",
    "sns.set_style(style='darkgrid')"
   ]
  },
  {
   "attachments": {},
   "cell_type": "markdown",
   "metadata": {},
   "source": [
    "## Загрузка данных."
   ]
  },
  {
   "attachments": {},
   "cell_type": "markdown",
   "metadata": {},
   "source": [
    "Получим список всех файлов из папки \"data\". Всего должно быть 43 файла."
   ]
  },
  {
   "cell_type": "code",
   "execution_count": 94,
   "metadata": {},
   "outputs": [
    {
     "name": "stdout",
     "output_type": "stream",
     "text": [
      "Список файлов папки \"data\" верен.\n"
     ]
    }
   ],
   "source": [
    "files = os.listdir('data')\n",
    "print('Список файлов папки \"data\" верен.') if len(files)==43 else print('Список файлов папки \"data\" неверен.')"
   ]
  },
  {
   "attachments": {},
   "cell_type": "markdown",
   "metadata": {},
   "source": [
    "Создаём пустой датасет, для заполнения. \"entry_id\" - будем использовать как индекс."
   ]
  },
  {
   "cell_type": "code",
   "execution_count": 95,
   "metadata": {},
   "outputs": [
    {
     "data": {
      "text/html": [
       "<div>\n",
       "<style scoped>\n",
       "    .dataframe tbody tr th:only-of-type {\n",
       "        vertical-align: middle;\n",
       "    }\n",
       "\n",
       "    .dataframe tbody tr th {\n",
       "        vertical-align: top;\n",
       "    }\n",
       "\n",
       "    .dataframe thead th {\n",
       "        text-align: right;\n",
       "    }\n",
       "</style>\n",
       "<table border=\"1\" class=\"dataframe\">\n",
       "  <thead>\n",
       "    <tr style=\"text-align: right;\">\n",
       "      <th></th>\n",
       "      <th>country</th>\n",
       "      <th>variety</th>\n",
       "      <th>winery</th>\n",
       "      <th>designation</th>\n",
       "      <th>points</th>\n",
       "      <th>price</th>\n",
       "      <th>province</th>\n",
       "      <th>region</th>\n",
       "      <th>taster_name</th>\n",
       "      <th>title</th>\n",
       "      <th>description</th>\n",
       "    </tr>\n",
       "    <tr>\n",
       "      <th>entry_id</th>\n",
       "      <th></th>\n",
       "      <th></th>\n",
       "      <th></th>\n",
       "      <th></th>\n",
       "      <th></th>\n",
       "      <th></th>\n",
       "      <th></th>\n",
       "      <th></th>\n",
       "      <th></th>\n",
       "      <th></th>\n",
       "      <th></th>\n",
       "    </tr>\n",
       "  </thead>\n",
       "  <tbody>\n",
       "  </tbody>\n",
       "</table>\n",
       "</div>"
      ],
      "text/plain": [
       "Empty DataFrame\n",
       "Columns: [country, variety, winery, designation, points, price, province, region, taster_name, title, description]\n",
       "Index: []"
      ]
     },
     "execution_count": 95,
     "metadata": {},
     "output_type": "execute_result"
    }
   ],
   "source": [
    "dataframe = pd.DataFrame(columns= ['entry_id', 'country', 'variety', 'winery', 'designation',\n",
    "                                    'points', 'price', 'province', 'region', 'taster_name', \n",
    "                                    'title', 'description'])\n",
    "dataframe = dataframe.set_index('entry_id')       # index column\n",
    "dataframe"
   ]
  },
  {
   "attachments": {},
   "cell_type": "markdown",
   "metadata": {},
   "source": [
    "Теперь заполним датасет \"dataframe\" данными из файлов в папке \"data\"."
   ]
  },
  {
   "cell_type": "code",
   "execution_count": 96,
   "metadata": {},
   "outputs": [],
   "source": [
    "for file in files:\n",
    "    dataframe = pd.concat([dataframe, pd.read_csv('data/'+file, sep=';', index_col='entry_id')], ignore_index=False)"
   ]
  },
  {
   "cell_type": "code",
   "execution_count": 97,
   "metadata": {},
   "outputs": [
    {
     "name": "stdout",
     "output_type": "stream",
     "text": [
      "Датасет имеет 149908 строк и 11 столбцов.\n"
     ]
    },
    {
     "data": {
      "text/html": [
       "<div>\n",
       "<style scoped>\n",
       "    .dataframe tbody tr th:only-of-type {\n",
       "        vertical-align: middle;\n",
       "    }\n",
       "\n",
       "    .dataframe tbody tr th {\n",
       "        vertical-align: top;\n",
       "    }\n",
       "\n",
       "    .dataframe thead th {\n",
       "        text-align: right;\n",
       "    }\n",
       "</style>\n",
       "<table border=\"1\" class=\"dataframe\">\n",
       "  <thead>\n",
       "    <tr style=\"text-align: right;\">\n",
       "      <th></th>\n",
       "      <th>country</th>\n",
       "      <th>variety</th>\n",
       "      <th>winery</th>\n",
       "      <th>designation</th>\n",
       "      <th>points</th>\n",
       "      <th>price</th>\n",
       "      <th>province</th>\n",
       "      <th>region</th>\n",
       "      <th>taster_name</th>\n",
       "      <th>title</th>\n",
       "      <th>description</th>\n",
       "    </tr>\n",
       "    <tr>\n",
       "      <th>entry_id</th>\n",
       "      <th></th>\n",
       "      <th></th>\n",
       "      <th></th>\n",
       "      <th></th>\n",
       "      <th></th>\n",
       "      <th></th>\n",
       "      <th></th>\n",
       "      <th></th>\n",
       "      <th></th>\n",
       "      <th></th>\n",
       "      <th></th>\n",
       "    </tr>\n",
       "  </thead>\n",
       "  <tbody>\n",
       "    <tr>\n",
       "      <th>1</th>\n",
       "      <td>Italy</td>\n",
       "      <td>White Blend</td>\n",
       "      <td>Nicosia</td>\n",
       "      <td>Vulkà Bianco</td>\n",
       "      <td>87</td>\n",
       "      <td>NaN</td>\n",
       "      <td>Sicily &amp; Sardinia</td>\n",
       "      <td>Etna</td>\n",
       "      <td>Kerin O’Keefe</td>\n",
       "      <td>Nicosia 2013 Vulkà Bianco  (Etna)</td>\n",
       "      <td>Aromas include tropical fruit, broom, brimston...</td>\n",
       "    </tr>\n",
       "    <tr>\n",
       "      <th>1</th>\n",
       "      <td>Italy</td>\n",
       "      <td>White Blend</td>\n",
       "      <td>Nicosia</td>\n",
       "      <td>Vulkà Bianco</td>\n",
       "      <td>87</td>\n",
       "      <td>NaN</td>\n",
       "      <td>Sicily &amp; Sardinia</td>\n",
       "      <td>Etna</td>\n",
       "      <td>Kerin O’Keefe</td>\n",
       "      <td>Nicosia 2013 Vulkà Bianco  (Etna)</td>\n",
       "      <td>Aromas include tropical fruit, broom, brimston...</td>\n",
       "    </tr>\n",
       "    <tr>\n",
       "      <th>2</th>\n",
       "      <td>Portugal</td>\n",
       "      <td>Portuguese Red</td>\n",
       "      <td>Quinta dos Avidagos</td>\n",
       "      <td>Avidagos</td>\n",
       "      <td>87</td>\n",
       "      <td>15.0</td>\n",
       "      <td>Douro</td>\n",
       "      <td>NaN</td>\n",
       "      <td>Roger Voss</td>\n",
       "      <td>Quinta dos Avidagos 2011 Avidagos Red (Douro)</td>\n",
       "      <td>This is ripe and fruity, a wine that is smooth...</td>\n",
       "    </tr>\n",
       "    <tr>\n",
       "      <th>3</th>\n",
       "      <td>US</td>\n",
       "      <td>Pinot Gris</td>\n",
       "      <td>Rainstorm</td>\n",
       "      <td>NaN</td>\n",
       "      <td>87</td>\n",
       "      <td>14.0</td>\n",
       "      <td>Oregon</td>\n",
       "      <td>Willamette Valley</td>\n",
       "      <td>Paul Gregutt</td>\n",
       "      <td>Rainstorm 2013 Pinot Gris (Willamette Valley)</td>\n",
       "      <td>Tart and snappy, the flavors of lime flesh and...</td>\n",
       "    </tr>\n",
       "    <tr>\n",
       "      <th>4</th>\n",
       "      <td>US</td>\n",
       "      <td>Riesling</td>\n",
       "      <td>St. Julian</td>\n",
       "      <td>Reserve Late Harvest</td>\n",
       "      <td>87</td>\n",
       "      <td>13.0</td>\n",
       "      <td>Michigan</td>\n",
       "      <td>Lake Michigan Shore</td>\n",
       "      <td>Alexаnder Peаrtree</td>\n",
       "      <td>St. Julian 2013 Reserve Late Harvest Riesling ...</td>\n",
       "      <td>Pineapple rind, lemon pith and orange blossom ...</td>\n",
       "    </tr>\n",
       "  </tbody>\n",
       "</table>\n",
       "</div>"
      ],
      "text/plain": [
       "           country         variety               winery           designation   \n",
       "entry_id                                                                        \n",
       "1            Italy     White Blend              Nicosia          Vulkà Bianco  \\\n",
       "1            Italy     White Blend              Nicosia          Vulkà Bianco   \n",
       "2         Portugal  Portuguese Red  Quinta dos Avidagos              Avidagos   \n",
       "3               US      Pinot Gris            Rainstorm                   NaN   \n",
       "4               US        Riesling           St. Julian  Reserve Late Harvest   \n",
       "\n",
       "         points  price           province               region   \n",
       "entry_id                                                         \n",
       "1            87    NaN  Sicily & Sardinia                 Etna  \\\n",
       "1            87    NaN  Sicily & Sardinia                 Etna   \n",
       "2            87   15.0              Douro                  NaN   \n",
       "3            87   14.0             Oregon    Willamette Valley   \n",
       "4            87   13.0           Michigan  Lake Michigan Shore   \n",
       "\n",
       "                 taster_name   \n",
       "entry_id                       \n",
       "1              Kerin O’Keefe  \\\n",
       "1              Kerin O’Keefe   \n",
       "2                 Roger Voss   \n",
       "3               Paul Gregutt   \n",
       "4         Alexаnder Peаrtree   \n",
       "\n",
       "                                                      title   \n",
       "entry_id                                                      \n",
       "1                         Nicosia 2013 Vulkà Bianco  (Etna)  \\\n",
       "1                         Nicosia 2013 Vulkà Bianco  (Etna)   \n",
       "2             Quinta dos Avidagos 2011 Avidagos Red (Douro)   \n",
       "3             Rainstorm 2013 Pinot Gris (Willamette Valley)   \n",
       "4         St. Julian 2013 Reserve Late Harvest Riesling ...   \n",
       "\n",
       "                                                description  \n",
       "entry_id                                                     \n",
       "1         Aromas include tropical fruit, broom, brimston...  \n",
       "1         Aromas include tropical fruit, broom, brimston...  \n",
       "2         This is ripe and fruity, a wine that is smooth...  \n",
       "3         Tart and snappy, the flavors of lime flesh and...  \n",
       "4         Pineapple rind, lemon pith and orange blossom ...  "
      ]
     },
     "execution_count": 97,
     "metadata": {},
     "output_type": "execute_result"
    }
   ],
   "source": [
    "dataframe = dataframe.sort_index()        #sort by index\n",
    "print(f'Датасет имеет {dataframe.shape[0]} строк и {dataframe.shape[1]} столбцов.')\n",
    "dataframe.head()"
   ]
  },
  {
   "attachments": {},
   "cell_type": "markdown",
   "metadata": {},
   "source": [
    "## Подготовка данных."
   ]
  },
  {
   "attachments": {},
   "cell_type": "markdown",
   "metadata": {},
   "source": [
    "Описание данных из датафрейма \"dataframe\"."
   ]
  },
  {
   "attachments": {},
   "cell_type": "markdown",
   "metadata": {},
   "source": [
    "| переменная  | тип       | описание                                                                         |\n",
    "| :---------- | :-------- | :------------------------------------------------------------------------------- |\n",
    "| entry_id    | integer   | ID записи                                                                        |\n",
    "| country     | character | Страна происхождения вина                                                        |\n",
    "| variety     | character | Сорт винограда                                                                   |\n",
    "| winery      | character | Винодельня                                                                       |\n",
    "| designation | character | Название виноградника в винодельне                                               |\n",
    "| points      | integer   | Баллы WineEnthusiast на шкале 1-100<br>(публикуются только отзывы с баллом >=80) |\n",
    "| price       | integer   | Стоимость за бутылку, USD                                                        |\n",
    "| province    | character | Провинция происхождения вина                                                     |\n",
    "| region      | character | Регион в провинции происхождения вина                                            |\n",
    "| taster_name | character | Имя автора отзыва                                                                |\n",
    "| title       | character | Заголовок отзыва, как правило содержит винтаж (год урожая)                       |\n",
    "| description | character | Описание вкусового профиля вина от автора отзыва                                 |"
   ]
  },
  {
   "cell_type": "code",
   "execution_count": 98,
   "metadata": {},
   "outputs": [
    {
     "name": "stdout",
     "output_type": "stream",
     "text": [
      "<class 'pandas.core.frame.DataFrame'>\n",
      "Index: 149908 entries, 1 to 119988\n",
      "Data columns (total 11 columns):\n",
      " #   Column       Non-Null Count   Dtype  \n",
      "---  ------       --------------   -----  \n",
      " 0   country      149908 non-null  object \n",
      " 1   variety      149906 non-null  object \n",
      " 2   winery       149908 non-null  object \n",
      " 3   designation  106749 non-null  object \n",
      " 4   points       149908 non-null  object \n",
      " 5   price        139418 non-null  float64\n",
      " 6   province     149908 non-null  object \n",
      " 7   region       125516 non-null  object \n",
      " 8   taster_name  118829 non-null  object \n",
      " 9   title        149908 non-null  object \n",
      " 10  description  149908 non-null  object \n",
      "dtypes: float64(1), object(10)\n",
      "memory usage: 13.7+ MB\n"
     ]
    }
   ],
   "source": [
    "dataframe.info()"
   ]
  },
  {
   "attachments": {},
   "cell_type": "markdown",
   "metadata": {},
   "source": [
    "Колонка \"desctiption\" не имеет пропущенных значений. Значит \"points\" будет от 80 баллов.\n",
    "\n",
    "Колонка \"points\" имеет тип *object*, хотя должна иметь тип *integet*. Сменим тип этой колонки."
   ]
  },
  {
   "cell_type": "code",
   "execution_count": 99,
   "metadata": {},
   "outputs": [],
   "source": [
    "dataframe.points = dataframe.points.astype('int64')"
   ]
  },
  {
   "attachments": {},
   "cell_type": "markdown",
   "metadata": {},
   "source": [
    "### Колонка \"taster_name\"."
   ]
  },
  {
   "cell_type": "code",
   "execution_count": 100,
   "metadata": {},
   "outputs": [
    {
     "data": {
      "text/plain": [
       "array(['Kerin O’Keefe', 'Roger Voss', 'Paul Gregutt',\n",
       "       'Alexаnder Peаrtree', 'Michаel Schаchner', 'Kеrin O’Kееfе',\n",
       "       'Rogеr Voss', 'Anna Lee C. Iijima', 'Virginiе Bооnе',\n",
       "       'Virginiе Boonе', 'Matt Kettmann', 'Annа Lee C. Iijimа',\n",
       "       'Michael Schachner', 'Alexander Peartree', 'Alеxаndеr Pеаrtrее',\n",
       "       'Virginie Boone', 'Rоger Vоss', nan, 'Michaеl Schachnеr',\n",
       "       'Michаеl Schаchnеr', 'Seаn P. Sullivаn', 'Virginie Bооne',\n",
       "       'Sеan P. Sullivan', 'Rоgеr Vоss', 'Sеаn P. Sullivаn', 'Jim Gordon',\n",
       "       'Sean P. Sullivan', 'Annа Lее C. Iijimа', 'Joе Czеrwinski',\n",
       "       'Paul Grеgutt', 'Pаul Grеgutt', 'Joe Czerwinski',\n",
       "       'Annе Krеbiеhl\\xa0MW', 'Anne Krebiehl\\xa0MW', 'Anna Lее C. Iijima',\n",
       "       'Mаtt Kеttmаnn', 'Matt Kеttmann', 'Jое Czеrwinski',\n",
       "       'Mаtt Kettmаnn', 'Lauren Buzzeo', 'Mike DeSimone', 'Lаurеn Buzzео',\n",
       "       'Jоe Czerwinski', 'Jeff Jenssen', 'Lаuren Buzzeо', 'Lаuren Buzzeo',\n",
       "       'Susan Kostrzewa', 'Susаn Kostrzеwа', 'Pаul Gregutt',\n",
       "       'Susаn Kоstrzewа', 'Susаn Kоstrzеwа', 'Susаn Kostrzewа',\n",
       "       'Laurеn Buzzео', 'Jim Gоrdоn', 'Laurеn Buzzеo', 'Lаurеn Buzzеo',\n",
       "       'Alеxandеr Pеartrее', 'Lauren Buzzeо', 'Mikе DеSimоnе',\n",
       "       'Susan Kоstrzеwa', 'Susan Kostrzеwa', 'Jеff Jеnssеn',\n",
       "       'Carrie Dykes', 'Cаrrie Dykes', 'Fiоnа Adаms', 'Susan Kоstrzewa',\n",
       "       'Mikе DеSimonе', 'Carriе Dykеs', 'Mike DeSimоne', 'Cаrriе Dykеs',\n",
       "       'Fiona Adams', 'Christinа Pickаrd', 'Fiоna Adams', 'Fionа Adаms',\n",
       "       'Christina Pickard'], dtype=object)"
      ]
     },
     "execution_count": 100,
     "metadata": {},
     "output_type": "execute_result"
    }
   ],
   "source": [
    "dataframe.taster_name.unique()"
   ]
  },
  {
   "attachments": {},
   "cell_type": "markdown",
   "metadata": {},
   "source": [
    "Мы можем заметить, что есть пропущенные значения в колонке и некоторые имена попали в список уникальных значений несколько раз. Это может говорить о неправильности заполнения колонки \"taster_name\" (например использование кирилицы вместо латиницы). Заменим все имена на латинские буквы и проверим число уникальных значений."
   ]
  },
  {
   "cell_type": "code",
   "execution_count": 101,
   "metadata": {},
   "outputs": [],
   "source": [
    "dataframe.loc[dataframe['taster_name'].isin(['Alexаnder Peаrtree', 'Alеxandеr Pеartrее', 'Alеxаndеr Pеаrtrее']),\\\n",
    "        'taster_name'] = 'Alexander Peartree'\n",
    "\n",
    "dataframe.loc[dataframe['taster_name'].isin(['Anna Lее C. Iijima', 'Annа Lee C. Iijimа', 'Annа Lее C. Iijimа']),\\\n",
    "         'taster_name'] = 'Anna Lee C. Iijima'\n",
    "\n",
    "dataframe.loc[dataframe['taster_name'].isin(['Anne Krebiehl\\xa0MW', 'Annе Krеbiеhl\\xa0MW']),\\\n",
    "         'taster_name'] = 'Anne Krebiehl MW'\n",
    "\n",
    "dataframe.loc[dataframe['taster_name'].isin( ['Carriе Dykеs', 'Cаrrie Dykes', 'Cаrriе Dykеs']),\\\n",
    "         'taster_name'] = 'Carrie Dykes'\n",
    "\n",
    "dataframe.loc[dataframe['taster_name'] == 'Christinа Pickаrd', 'taster_name'] = 'Christina Pickard'\n",
    "\n",
    "dataframe.loc[dataframe['taster_name'].isin(['Fionа Adаms', 'Fiоna Adams', 'Fiоnа Adаms']),\\\n",
    "         'taster_name'] = 'Fiona Adams'\n",
    "\n",
    "dataframe.loc[dataframe['taster_name'] == 'Jеff Jеnssеn', 'taster_name'] = 'Jeff Jenssen'\n",
    "\n",
    "dataframe.loc[dataframe['taster_name'] == 'Jim Gоrdоn', 'taster_name'] =  'Jim Gordon'\n",
    "\n",
    "dataframe.loc[dataframe['taster_name'].isin(['Joе Czеrwinski', 'Jоe Czerwinski', 'Jое Czеrwinski']),\\\n",
    "         'taster_name'] = 'Joe Czerwinski'\n",
    "\n",
    "dataframe.loc[dataframe['taster_name'] == 'Kеrin O’Kееfе', 'taster_name'] = 'Kerin O’Keefe'\n",
    "\n",
    "dataframe.loc[dataframe['taster_name'].isin(['Lauren Buzzeо', 'Laurеn Buzzеo', 'Laurеn Buzzео',\\\n",
    "                              'Lаuren Buzzeo', 'Lаuren Buzzeо', 'Lаurеn Buzzеo',\\\n",
    "                              'Lаurеn Buzzео']), 'taster_name'] = 'Lauren Buzzeo'\n",
    "\n",
    "dataframe.loc[dataframe['taster_name'].isin(['Mаtt Kеttmаnn', 'Matt Kеttmann', 'Mаtt Kettmаnn']), 'taster_name'] = 'Matt Kettmann'\n",
    "\n",
    "dataframe.loc[dataframe['taster_name'].isin(['Michaеl Schachnеr', 'Michаel Schаchner', 'Michаеl Schаchnеr']),\\\n",
    "          'taster_name'] = 'Michael Schachner'\n",
    "\n",
    "dataframe.loc[dataframe['taster_name'].isin(['Mike DeSimоne', 'Mikе DеSimonе', 'Mikе DеSimоnе']),\\\n",
    "         'taster_name'] = 'Mike DeSimone'\n",
    "\n",
    "dataframe.loc[dataframe['taster_name'].isin(['Paul Grеgutt', 'Pаul Gregutt', 'Pаul Grеgutt']), 'taster_name'] =  'Paul Gregutt'\n",
    "\n",
    "dataframe.loc[dataframe['taster_name'].isin(['Rogеr Voss', 'Rоger Vоss', 'Rоgеr Vоss']), 'taster_name'] = 'Roger Voss'\n",
    "\n",
    "dataframe.loc[dataframe['taster_name'].isin(['Seаn P. Sullivаn', 'Sеan P. Sullivan', 'Sеаn P. Sullivаn']), 'taster_name'] = 'Sean P. Sullivan'\n",
    "\n",
    "dataframe.loc[dataframe['taster_name'].isin([ 'Susan Kostrzеwa', 'Susan Kоstrzewa', 'Susan Kоstrzеwa',\\\n",
    "                               'Susаn Kostrzewа', 'Susаn Kostrzеwа', 'Susаn Kоstrzewа',\\\n",
    "                               'Susаn Kоstrzеwа',]), 'taster_name'] = 'Susan Kostrzewa'\n",
    "\n",
    "dataframe.loc[dataframe['taster_name'].isin(['Virginie Bооne', 'Virginiе Boonе', 'Virginiе Bооnе']), 'taster_name'] = 'Virginie Boone'"
   ]
  },
  {
   "attachments": {},
   "cell_type": "markdown",
   "metadata": {},
   "source": [
    "Проверим не осталось ли дублированных значений в колонке."
   ]
  },
  {
   "cell_type": "code",
   "execution_count": 102,
   "metadata": {},
   "outputs": [
    {
     "data": {
      "text/plain": [
       "array(['Kerin O’Keefe', 'Roger Voss', 'Paul Gregutt',\n",
       "       'Alexander Peartree', 'Michael Schachner', 'Anna Lee C. Iijima',\n",
       "       'Virginie Boone', 'Matt Kettmann', nan, 'Sean P. Sullivan',\n",
       "       'Jim Gordon', 'Joe Czerwinski', 'Anne Krebiehl MW',\n",
       "       'Lauren Buzzeo', 'Mike DeSimone', 'Jeff Jenssen',\n",
       "       'Susan Kostrzewa', 'Carrie Dykes', 'Fiona Adams',\n",
       "       'Christina Pickard'], dtype=object)"
      ]
     },
     "execution_count": 102,
     "metadata": {},
     "output_type": "execute_result"
    }
   ],
   "source": [
    "dataframe.taster_name.unique()"
   ]
  },
  {
   "attachments": {},
   "cell_type": "markdown",
   "metadata": {},
   "source": [
    "Все имена уникальны. Теперь найдём сколько уникальных значений есть в этом столбце. Помним, что *nunique()* не учитывает пропущенные значения."
   ]
  },
  {
   "cell_type": "code",
   "execution_count": 103,
   "metadata": {},
   "outputs": [
    {
     "data": {
      "text/plain": [
       "20"
      ]
     },
     "execution_count": 103,
     "metadata": {},
     "output_type": "execute_result"
    }
   ],
   "source": [
    "dataframe.taster_name.nunique() + 1"
   ]
  },
  {
   "attachments": {},
   "cell_type": "markdown",
   "metadata": {},
   "source": [
    "Всего 20 уникальных значений, включая пропущенные згначения."
   ]
  },
  {
   "attachments": {},
   "cell_type": "markdown",
   "metadata": {},
   "source": [
    "### Дубликаты строк."
   ]
  },
  {
   "attachments": {},
   "cell_type": "markdown",
   "metadata": {},
   "source": [
    "Посмотрим есть ли дублирующиеся строки в нашем датасете. Если они есть, то от них нужно избавиться, чтобы анализ данных был верен и при обучении модели прогнозирования не произошло переобучения."
   ]
  },
  {
   "cell_type": "code",
   "execution_count": 104,
   "metadata": {},
   "outputs": [
    {
     "data": {
      "text/plain": [
       "29979"
      ]
     },
     "execution_count": 104,
     "metadata": {},
     "output_type": "execute_result"
    }
   ],
   "source": [
    "dataframe.duplicated().sum()"
   ]
  },
  {
   "attachments": {},
   "cell_type": "markdown",
   "metadata": {},
   "source": [
    "Всего в датасете **29 979** дубликатов строк. Удалим их все."
   ]
  },
  {
   "cell_type": "code",
   "execution_count": 105,
   "metadata": {},
   "outputs": [
    {
     "data": {
      "text/plain": [
       "(119929, 11)"
      ]
     },
     "execution_count": 105,
     "metadata": {},
     "output_type": "execute_result"
    }
   ],
   "source": [
    "dataframe = dataframe.drop_duplicates(keep='first')\n",
    "dataframe.shape"
   ]
  },
  {
   "attachments": {},
   "cell_type": "markdown",
   "metadata": {},
   "source": [
    "После удаления дублирующихся строк отсталось 119929 записей."
   ]
  },
  {
   "attachments": {},
   "cell_type": "markdown",
   "metadata": {},
   "source": [
    "### Описательная статистика."
   ]
  },
  {
   "attachments": {},
   "cell_type": "markdown",
   "metadata": {},
   "source": [
    "У нас только 2 числовые характеристики \"points\" и \"price\". Посмотрим на описательную статистику для них."
   ]
  },
  {
   "cell_type": "code",
   "execution_count": 106,
   "metadata": {},
   "outputs": [
    {
     "data": {
      "text/html": [
       "<div>\n",
       "<style scoped>\n",
       "    .dataframe tbody tr th:only-of-type {\n",
       "        vertical-align: middle;\n",
       "    }\n",
       "\n",
       "    .dataframe tbody tr th {\n",
       "        vertical-align: top;\n",
       "    }\n",
       "\n",
       "    .dataframe thead th {\n",
       "        text-align: right;\n",
       "    }\n",
       "</style>\n",
       "<table border=\"1\" class=\"dataframe\">\n",
       "  <thead>\n",
       "    <tr style=\"text-align: right;\">\n",
       "      <th></th>\n",
       "      <th>points</th>\n",
       "      <th>price</th>\n",
       "    </tr>\n",
       "  </thead>\n",
       "  <tbody>\n",
       "    <tr>\n",
       "      <th>count</th>\n",
       "      <td>119929.000000</td>\n",
       "      <td>111538.000000</td>\n",
       "    </tr>\n",
       "    <tr>\n",
       "      <th>mean</th>\n",
       "      <td>88.442145</td>\n",
       "      <td>35.626109</td>\n",
       "    </tr>\n",
       "    <tr>\n",
       "      <th>std</th>\n",
       "      <td>3.093275</td>\n",
       "      <td>42.112910</td>\n",
       "    </tr>\n",
       "    <tr>\n",
       "      <th>min</th>\n",
       "      <td>80.000000</td>\n",
       "      <td>4.000000</td>\n",
       "    </tr>\n",
       "    <tr>\n",
       "      <th>25%</th>\n",
       "      <td>86.000000</td>\n",
       "      <td>17.000000</td>\n",
       "    </tr>\n",
       "    <tr>\n",
       "      <th>50%</th>\n",
       "      <td>88.000000</td>\n",
       "      <td>25.000000</td>\n",
       "    </tr>\n",
       "    <tr>\n",
       "      <th>75%</th>\n",
       "      <td>91.000000</td>\n",
       "      <td>42.000000</td>\n",
       "    </tr>\n",
       "    <tr>\n",
       "      <th>max</th>\n",
       "      <td>100.000000</td>\n",
       "      <td>3300.000000</td>\n",
       "    </tr>\n",
       "  </tbody>\n",
       "</table>\n",
       "</div>"
      ],
      "text/plain": [
       "              points          price\n",
       "count  119929.000000  111538.000000\n",
       "mean       88.442145      35.626109\n",
       "std         3.093275      42.112910\n",
       "min        80.000000       4.000000\n",
       "25%        86.000000      17.000000\n",
       "50%        88.000000      25.000000\n",
       "75%        91.000000      42.000000\n",
       "max       100.000000    3300.000000"
      ]
     },
     "execution_count": 106,
     "metadata": {},
     "output_type": "execute_result"
    }
   ],
   "source": [
    "dataframe.describe()"
   ]
  },
  {
   "cell_type": "code",
   "execution_count": 107,
   "metadata": {},
   "outputs": [
    {
     "name": "stdout",
     "output_type": "stream",
     "text": [
      "Медианное значение \"points\" = 88.0, a \"price\" = 25.0\n"
     ]
    }
   ],
   "source": [
    "print(f'Медианное значение \"points\" = {dataframe.points.median()}, a \"price\" = {dataframe.price.median()}')"
   ]
  },
  {
   "attachments": {},
   "cell_type": "markdown",
   "metadata": {},
   "source": [
    "В колонке \"price\" есть пропущенные значения. На данном этапе не бдем с ними ничего делать.\n",
    "\n",
    "Для \"points\" mean = 88.4, median = 88.0, min = 80.0, max = 100.0. \n",
    "\n",
    "Для \"price\" mean = 35.6, median = 25, min = 4.0, max = 3300.0. Для данной зарактеристики есть выбросы, так как медиана равно 25, а максимальное значение 3300. \n",
    "\n",
    "Стоит построить графики распределения этих величин."
   ]
  },
  {
   "cell_type": "code",
   "execution_count": 108,
   "metadata": {},
   "outputs": [
    {
     "data": {
      "image/png": "[encoded data removed]",
      "text/plain": [
       "<Figure size 800x400 with 1 Axes>"
      ]
     },
     "metadata": {},
     "output_type": "display_data"
    }
   ],
   "source": [
    "sns.displot(data=dataframe, x='points', discrete=True, height=4, aspect=2)\n",
    "plt.title('Points');"
   ]
  },
  {
   "cell_type": "code",
   "execution_count": 109,
   "metadata": {},
   "outputs": [
    {
     "data": {
      "image/png": "[encoded data removed]",
      "text/plain": [
       "<Figure size 1000x500 with 1 Axes>"
      ]
     },
     "metadata": {},
     "output_type": "display_data"
    }
   ],
   "source": [
    "sns.displot(data=dataframe, x='price', bins=dataframe.price.nunique(), kde=True, color='blue', height=5, aspect=2)\n",
    "sns.rugplot(data=dataframe, x='price', color='red', linewidth=1.5)\n",
    "plt.title('Price');"
   ]
  },
  {
   "attachments": {},
   "cell_type": "markdown",
   "metadata": {},
   "source": [
    "Как и ожидалось расределение величины \"points\" близко к нормальному, в то время как распределние величины \"price\" имеет сильное смещение в сторону минимума и выбросы.\n",
    "\n",
    "Теперь исследуем зависимость между этими величинами. \n",
    "\n",
    "Для начала определим коэффициент корреляции. Будем исспользовать коэффициент корреляции Спирмана. Такой выбор обусловлен тем, что переменная \"price\" не имеет нормального распределения и в ней присутствуют выбросы, а величина \"points\" - качественная."
   ]
  },
  {
   "cell_type": "code",
   "execution_count": 110,
   "metadata": {},
   "outputs": [
    {
     "data": {
      "text/plain": [
       "SignificanceResult(statistic=0.6124750550158435, pvalue=0.0)"
      ]
     },
     "execution_count": 110,
     "metadata": {},
     "output_type": "execute_result"
    }
   ],
   "source": [
    "spearmanr(dataframe.price, dataframe.points, nan_policy='omit', alternative='two-sided')"
   ]
  },
  {
   "attachments": {},
   "cell_type": "markdown",
   "metadata": {},
   "source": [
    "Так как переменная \"points\" имеет только 21 значение (дискретная величина), а переменная \"price\" 390 (непрерывная), то для демонстрации связи между ними будем использовать точечный график, который объединяет непрерывную переменную (ось Y) с категориальной переменной (ось X)."
   ]
  },
  {
   "cell_type": "code",
   "execution_count": 111,
   "metadata": {},
   "outputs": [
    {
     "data": {
      "image/png": "[encoded data removed]",
      "text/plain": [
       "<Figure size 1000x500 with 1 Axes>"
      ]
     },
     "metadata": {},
     "output_type": "display_data"
    }
   ],
   "source": [
    "plt.figure(figsize=(10, 5))\n",
    "sns.pointplot(x='points', y='price', data=dataframe, linestyles='--')\n",
    "plt.xlabel('Points')\n",
    "plt.ylabel('Price')\n",
    "plt.title('Отображение связи между \"points\" и \"price\".');"
   ]
  },
  {
   "attachments": {},
   "cell_type": "markdown",
   "metadata": {},
   "source": [
    "Данный график показывает следующую информацию:\n",
    "\n",
    "* Средняя стоимость вина в разбивке по баллам (представлена ​​точками на графике)\n",
    "* Относительное изменение между баллами (представлено линиями, соединяющими точки)\n",
    "* 95-процентный доверительный интервал (представлен вертикальными линиями, пересекающимися с точками).\n",
    "\n",
    "Из графика видно, что вино с большим количество баллов стоит дороже, что и ожидалось."
   ]
  },
  {
   "attachments": {},
   "cell_type": "markdown",
   "metadata": {},
   "source": [
    "*Как зовут ТОП-5 самых продуктивных авторов отзывов (по числу отзывов).*"
   ]
  },
  {
   "cell_type": "code",
   "execution_count": 112,
   "metadata": {},
   "outputs": [
    {
     "data": {
      "text/plain": [
       "taster_name\n",
       "Roger Voss           23558\n",
       "Michael Schachner    14039\n",
       "Kerin O’Keefe         9697\n",
       "Paul Gregutt          8867\n",
       "Virginie Boone        8708\n",
       "Name: count, dtype: int64"
      ]
     },
     "execution_count": 112,
     "metadata": {},
     "output_type": "execute_result"
    }
   ],
   "source": [
    "dataframe.taster_name.value_counts()[:5]"
   ]
  },
  {
   "attachments": {},
   "cell_type": "markdown",
   "metadata": {},
   "source": [
    "ТОП-5: Roger Voss, Michael Schachner, Kerin O’Keefe, Paul Gregutt, Virginie Boone"
   ]
  },
  {
   "attachments": {},
   "cell_type": "markdown",
   "metadata": {},
   "source": [
    "*Вина из каких стран каждый из ТОП-5 в основном оценивает.*"
   ]
  },
  {
   "cell_type": "code",
   "execution_count": 113,
   "metadata": {},
   "outputs": [
    {
     "data": {
      "text/plain": [
       "taster_name        country     \n",
       "Kerin O’Keefe      Italy            9697\n",
       "Michael Schachner  Spain            6046\n",
       "                   Chile            4049\n",
       "                   Argentina        3542\n",
       "                   Uruguay            98\n",
       "                   Italy              76\n",
       "                   US                 71\n",
       "                   Mexico             63\n",
       "                   Brazil             49\n",
       "                   France             20\n",
       "                   Peru               16\n",
       "                   Portugal            9\n",
       "Paul Gregutt       US               8666\n",
       "                   Canada            159\n",
       "                   France             34\n",
       "                   Spain               4\n",
       "                   Italy               4\n",
       "Roger Voss         France          17150\n",
       "                   Portugal         5223\n",
       "                   Austria          1064\n",
       "                   Italy              96\n",
       "                   South Africa       22\n",
       "                   US                  2\n",
       "                   Greece              1\n",
       "Virginie Boone     US               8708\n",
       "Name: count, dtype: int64"
      ]
     },
     "execution_count": 113,
     "metadata": {},
     "output_type": "execute_result"
    }
   ],
   "source": [
    "dataframe[dataframe.taster_name.isin(dataframe.taster_name.value_counts()[:5].index)].\\\n",
    "    groupby('taster_name').country.value_counts()"
   ]
  },
  {
   "attachments": {},
   "cell_type": "markdown",
   "metadata": {},
   "source": [
    "**Kerin O’Keefe**: Italy (9697)\n",
    "\n",
    "**Michael Schachner**: Spain (6046), Chile (4049), Argentina (3542)\n",
    "\n",
    "**Paul Gregutt**: US (8666)\n",
    "\n",
    "**Roger Voss**: France (17150), Portugal (5223), Austria (1064)\n",
    "\n",
    "**Virginie Boone**: US (8708)"
   ]
  },
  {
   "attachments": {},
   "cell_type": "markdown",
   "metadata": {},
   "source": [
    "*Отличаются ли ценовые диапазон вин, которые оценивает каждый из ТОП-5?*"
   ]
  },
  {
   "cell_type": "code",
   "execution_count": 114,
   "metadata": {},
   "outputs": [
    {
     "data": {
      "image/png": "[encoded data removed]",
      "text/plain": [
       "<Figure size 1500x500 with 1 Axes>"
      ]
     },
     "metadata": {},
     "output_type": "display_data"
    }
   ],
   "source": [
    "plt.figure(figsize=(15, 5))\n",
    "sns.boxplot(x=\"price\", \n",
    "            y=\"taster_name\", \n",
    "            data=dataframe[dataframe.taster_name.isin(dataframe.taster_name.value_counts()[:5].index)]);"
   ]
  },
  {
   "attachments": {},
   "cell_type": "markdown",
   "metadata": {},
   "source": [
    "Отличия в диапазонах есть. Больше всего диапазон у Roger Voss, меньше всего Paul Gregutt."
   ]
  },
  {
   "attachments": {},
   "cell_type": "markdown",
   "metadata": {},
   "source": [
    "### Дополнительно."
   ]
  },
  {
   "cell_type": "code",
   "execution_count": 115,
   "metadata": {},
   "outputs": [
    {
     "data": {
      "text/html": [
       "<div>\n",
       "<style scoped>\n",
       "    .dataframe tbody tr th:only-of-type {\n",
       "        vertical-align: middle;\n",
       "    }\n",
       "\n",
       "    .dataframe tbody tr th {\n",
       "        vertical-align: top;\n",
       "    }\n",
       "\n",
       "    .dataframe thead th {\n",
       "        text-align: right;\n",
       "    }\n",
       "</style>\n",
       "<table border=\"1\" class=\"dataframe\">\n",
       "  <thead>\n",
       "    <tr style=\"text-align: right;\">\n",
       "      <th></th>\n",
       "      <th>country</th>\n",
       "      <th>variety</th>\n",
       "      <th>winery</th>\n",
       "      <th>designation</th>\n",
       "      <th>points</th>\n",
       "      <th>price</th>\n",
       "      <th>province</th>\n",
       "      <th>region</th>\n",
       "      <th>taster_name</th>\n",
       "      <th>title</th>\n",
       "      <th>description</th>\n",
       "    </tr>\n",
       "    <tr>\n",
       "      <th>entry_id</th>\n",
       "      <th></th>\n",
       "      <th></th>\n",
       "      <th></th>\n",
       "      <th></th>\n",
       "      <th></th>\n",
       "      <th></th>\n",
       "      <th></th>\n",
       "      <th></th>\n",
       "      <th></th>\n",
       "      <th></th>\n",
       "      <th></th>\n",
       "    </tr>\n",
       "  </thead>\n",
       "  <tbody>\n",
       "    <tr>\n",
       "      <th>120</th>\n",
       "      <td>France</td>\n",
       "      <td>Riesling</td>\n",
       "      <td>Dopff &amp; Irion</td>\n",
       "      <td>Schoenenbourg Grand Cru Vendanges Tardives</td>\n",
       "      <td>92</td>\n",
       "      <td>80.0</td>\n",
       "      <td>Alsace</td>\n",
       "      <td>Alsace</td>\n",
       "      <td>NaN</td>\n",
       "      <td>Dopff &amp; Irion 2004 Schoenenbourg Grand Cru Ven...</td>\n",
       "      <td>Medium-gold in color. Complex and inviting nos...</td>\n",
       "    </tr>\n",
       "    <tr>\n",
       "      <th>121</th>\n",
       "      <td>Italy</td>\n",
       "      <td>Nebbiolo</td>\n",
       "      <td>Ceretto</td>\n",
       "      <td>Bricco Rocche Prapó</td>\n",
       "      <td>92</td>\n",
       "      <td>70.0</td>\n",
       "      <td>Piedmont</td>\n",
       "      <td>Barolo</td>\n",
       "      <td>NaN</td>\n",
       "      <td>Ceretto 2003 Bricco Rocche Prapó  (Barolo)</td>\n",
       "      <td>Slightly backward, particularly given the vint...</td>\n",
       "    </tr>\n",
       "    <tr>\n",
       "      <th>122</th>\n",
       "      <td>US</td>\n",
       "      <td>Chardonnay</td>\n",
       "      <td>Matrix</td>\n",
       "      <td>Stuhlmuller Vineyard</td>\n",
       "      <td>92</td>\n",
       "      <td>36.0</td>\n",
       "      <td>California</td>\n",
       "      <td>Alexander Valley</td>\n",
       "      <td>NaN</td>\n",
       "      <td>Matrix 2007 Stuhlmuller Vineyard Chardonnay (A...</td>\n",
       "      <td>The vineyard is one of the better Chardonnay s...</td>\n",
       "    </tr>\n",
       "    <tr>\n",
       "      <th>123</th>\n",
       "      <td>US</td>\n",
       "      <td>Zinfandel</td>\n",
       "      <td>Mauritson</td>\n",
       "      <td>Rockpile Cemetary Vineyard</td>\n",
       "      <td>92</td>\n",
       "      <td>39.0</td>\n",
       "      <td>California</td>\n",
       "      <td>Rockpile</td>\n",
       "      <td>NaN</td>\n",
       "      <td>Mauritson 2007 Rockpile Cemetary Vineyard Zinf...</td>\n",
       "      <td>Defines Rockpile Zinfandel in intensity of fru...</td>\n",
       "    </tr>\n",
       "    <tr>\n",
       "      <th>124</th>\n",
       "      <td>Australia</td>\n",
       "      <td>Shiraz-Cabernet Sauvignon</td>\n",
       "      <td>Henry's Drive Vignerons</td>\n",
       "      <td>Parson's Flat</td>\n",
       "      <td>92</td>\n",
       "      <td>40.0</td>\n",
       "      <td>South Australia</td>\n",
       "      <td>Padthaway</td>\n",
       "      <td>Joe Czerwinski</td>\n",
       "      <td>Henry's Drive Vignerons 2006 Parson's Flat Shi...</td>\n",
       "      <td>The blend is roughly two-thirds Shiraz and one...</td>\n",
       "    </tr>\n",
       "  </tbody>\n",
       "</table>\n",
       "</div>"
      ],
      "text/plain": [
       "            country                    variety                   winery   \n",
       "entry_id                                                                  \n",
       "120          France                   Riesling            Dopff & Irion  \\\n",
       "121           Italy                   Nebbiolo                  Ceretto   \n",
       "122              US                 Chardonnay                   Matrix   \n",
       "123              US                  Zinfandel                Mauritson   \n",
       "124       Australia  Shiraz-Cabernet Sauvignon  Henry's Drive Vignerons   \n",
       "\n",
       "                                         designation  points  price   \n",
       "entry_id                                                              \n",
       "120       Schoenenbourg Grand Cru Vendanges Tardives      92   80.0  \\\n",
       "121                              Bricco Rocche Prapó      92   70.0   \n",
       "122                             Stuhlmuller Vineyard      92   36.0   \n",
       "123                       Rockpile Cemetary Vineyard      92   39.0   \n",
       "124                                    Parson's Flat      92   40.0   \n",
       "\n",
       "                 province            region     taster_name   \n",
       "entry_id                                                      \n",
       "120                Alsace            Alsace             NaN  \\\n",
       "121              Piedmont            Barolo             NaN   \n",
       "122            California  Alexander Valley             NaN   \n",
       "123            California          Rockpile             NaN   \n",
       "124       South Australia         Padthaway  Joe Czerwinski   \n",
       "\n",
       "                                                      title   \n",
       "entry_id                                                      \n",
       "120       Dopff & Irion 2004 Schoenenbourg Grand Cru Ven...  \\\n",
       "121              Ceretto 2003 Bricco Rocche Prapó  (Barolo)   \n",
       "122       Matrix 2007 Stuhlmuller Vineyard Chardonnay (A...   \n",
       "123       Mauritson 2007 Rockpile Cemetary Vineyard Zinf...   \n",
       "124       Henry's Drive Vignerons 2006 Parson's Flat Shi...   \n",
       "\n",
       "                                                description  \n",
       "entry_id                                                     \n",
       "120       Medium-gold in color. Complex and inviting nos...  \n",
       "121       Slightly backward, particularly given the vint...  \n",
       "122       The vineyard is one of the better Chardonnay s...  \n",
       "123       Defines Rockpile Zinfandel in intensity of fru...  \n",
       "124       The blend is roughly two-thirds Shiraz and one...  "
      ]
     },
     "execution_count": 115,
     "metadata": {},
     "output_type": "execute_result"
    }
   ],
   "source": [
    "df_90 = dataframe[dataframe.points>90]\n",
    "df_90.head()"
   ]
  },
  {
   "cell_type": "code",
   "execution_count": 117,
   "metadata": {},
   "outputs": [
    {
     "data": {
      "image/png": "[encoded data removed]",
      "text/plain": [
       "<Figure size 1000x500 with 1 Axes>"
      ]
     },
     "metadata": {},
     "output_type": "display_data"
    }
   ],
   "source": [
    "plt.figure(figsize=(10,5))\n",
    "sns.boxplot(x=\"country\", y=\"points\", data=df_90)\n",
    "plt.xticks(rotation=90);"
   ]
  },
  {
   "attachments": {},
   "cell_type": "markdown",
   "metadata": {},
   "source": [
    "Наивысший рейтинг у виина из стран Франция, Италия, США, Австралия, Германия, Португалия, Испания, Австрия."
   ]
  },
  {
   "attachments": {},
   "cell_type": "markdown",
   "metadata": {},
   "source": [
    "Теперь посмотрим на средний рейтинг по винодельне и выведем топ-10."
   ]
  },
  {
   "cell_type": "code",
   "execution_count": 118,
   "metadata": {},
   "outputs": [
    {
     "data": {
      "text/html": [
       "<div>\n",
       "<style scoped>\n",
       "    .dataframe tbody tr th:only-of-type {\n",
       "        vertical-align: middle;\n",
       "    }\n",
       "\n",
       "    .dataframe tbody tr th {\n",
       "        vertical-align: top;\n",
       "    }\n",
       "\n",
       "    .dataframe thead th {\n",
       "        text-align: right;\n",
       "    }\n",
       "</style>\n",
       "<table border=\"1\" class=\"dataframe\">\n",
       "  <thead>\n",
       "    <tr style=\"text-align: right;\">\n",
       "      <th></th>\n",
       "      <th>winery</th>\n",
       "      <th>mean_points</th>\n",
       "    </tr>\n",
       "  </thead>\n",
       "  <tbody>\n",
       "    <tr>\n",
       "      <th>266</th>\n",
       "      <td>Araujo</td>\n",
       "      <td>98.000000</td>\n",
       "    </tr>\n",
       "    <tr>\n",
       "      <th>3446</th>\n",
       "      <td>J.L. Chave</td>\n",
       "      <td>97.000000</td>\n",
       "    </tr>\n",
       "    <tr>\n",
       "      <th>2994</th>\n",
       "      <td>Gandona</td>\n",
       "      <td>97.000000</td>\n",
       "    </tr>\n",
       "    <tr>\n",
       "      <th>4663</th>\n",
       "      <td>Ovid</td>\n",
       "      <td>97.000000</td>\n",
       "    </tr>\n",
       "    <tr>\n",
       "      <th>4516</th>\n",
       "      <td>Napa Angel</td>\n",
       "      <td>97.000000</td>\n",
       "    </tr>\n",
       "    <tr>\n",
       "      <th>5905</th>\n",
       "      <td>Tenuta dell'Ornellaia</td>\n",
       "      <td>96.888889</td>\n",
       "    </tr>\n",
       "    <tr>\n",
       "      <th>5379</th>\n",
       "      <td>Salon</td>\n",
       "      <td>96.800000</td>\n",
       "    </tr>\n",
       "    <tr>\n",
       "      <th>1513</th>\n",
       "      <td>Château Pétrus</td>\n",
       "      <td>96.666667</td>\n",
       "    </tr>\n",
       "    <tr>\n",
       "      <th>348</th>\n",
       "      <td>Avignonesi</td>\n",
       "      <td>96.600000</td>\n",
       "    </tr>\n",
       "    <tr>\n",
       "      <th>6228</th>\n",
       "      <td>Verité</td>\n",
       "      <td>96.125000</td>\n",
       "    </tr>\n",
       "  </tbody>\n",
       "</table>\n",
       "</div>"
      ],
      "text/plain": [
       "                     winery  mean_points\n",
       "266                  Araujo    98.000000\n",
       "3446             J.L. Chave    97.000000\n",
       "2994                Gandona    97.000000\n",
       "4663                   Ovid    97.000000\n",
       "4516             Napa Angel    97.000000\n",
       "5905  Tenuta dell'Ornellaia    96.888889\n",
       "5379                  Salon    96.800000\n",
       "1513         Château Pétrus    96.666667\n",
       "348              Avignonesi    96.600000\n",
       "6228                 Verité    96.125000"
      ]
     },
     "execution_count": 118,
     "metadata": {},
     "output_type": "execute_result"
    }
   ],
   "source": [
    "df_90.groupby('winery').points.mean().reset_index(name=\"mean_points\").sort_values('mean_points', ascending=False).head(10)"
   ]
  },
  {
   "attachments": {},
   "cell_type": "markdown",
   "metadata": {},
   "source": [
    "Выведем ТОП-10 провинций по качеству вина."
   ]
  },
  {
   "cell_type": "code",
   "execution_count": 119,
   "metadata": {},
   "outputs": [
    {
     "data": {
      "text/html": [
       "<div>\n",
       "<style scoped>\n",
       "    .dataframe tbody tr th:only-of-type {\n",
       "        vertical-align: middle;\n",
       "    }\n",
       "\n",
       "    .dataframe tbody tr th {\n",
       "        vertical-align: top;\n",
       "    }\n",
       "\n",
       "    .dataframe thead th {\n",
       "        text-align: right;\n",
       "    }\n",
       "</style>\n",
       "<table border=\"1\" class=\"dataframe\">\n",
       "  <thead>\n",
       "    <tr style=\"text-align: right;\">\n",
       "      <th></th>\n",
       "      <th>province</th>\n",
       "      <th>mean_points</th>\n",
       "    </tr>\n",
       "  </thead>\n",
       "  <tbody>\n",
       "    <tr>\n",
       "      <th>110</th>\n",
       "      <td>Madeira</td>\n",
       "      <td>94.181818</td>\n",
       "    </tr>\n",
       "    <tr>\n",
       "      <th>193</th>\n",
       "      <td>Südburgenland</td>\n",
       "      <td>94.000000</td>\n",
       "    </tr>\n",
       "    <tr>\n",
       "      <th>126</th>\n",
       "      <td>Moscatel do Douro</td>\n",
       "      <td>93.500000</td>\n",
       "    </tr>\n",
       "    <tr>\n",
       "      <th>216</th>\n",
       "      <td>Wachau</td>\n",
       "      <td>93.242152</td>\n",
       "    </tr>\n",
       "    <tr>\n",
       "      <th>212</th>\n",
       "      <td>Vinho Licoroso</td>\n",
       "      <td>93.000000</td>\n",
       "    </tr>\n",
       "    <tr>\n",
       "      <th>34</th>\n",
       "      <td>Cape South Coast</td>\n",
       "      <td>93.000000</td>\n",
       "    </tr>\n",
       "    <tr>\n",
       "      <th>47</th>\n",
       "      <td>Colares</td>\n",
       "      <td>93.000000</td>\n",
       "    </tr>\n",
       "    <tr>\n",
       "      <th>158</th>\n",
       "      <td>Port</td>\n",
       "      <td>92.991837</td>\n",
       "    </tr>\n",
       "    <tr>\n",
       "      <th>202</th>\n",
       "      <td>Tokaji</td>\n",
       "      <td>92.920000</td>\n",
       "    </tr>\n",
       "    <tr>\n",
       "      <th>167</th>\n",
       "      <td>Rheingau</td>\n",
       "      <td>92.777778</td>\n",
       "    </tr>\n",
       "  </tbody>\n",
       "</table>\n",
       "</div>"
      ],
      "text/plain": [
       "              province  mean_points\n",
       "110            Madeira    94.181818\n",
       "193      Südburgenland    94.000000\n",
       "126  Moscatel do Douro    93.500000\n",
       "216             Wachau    93.242152\n",
       "212     Vinho Licoroso    93.000000\n",
       "34    Cape South Coast    93.000000\n",
       "47             Colares    93.000000\n",
       "158               Port    92.991837\n",
       "202             Tokaji    92.920000\n",
       "167           Rheingau    92.777778"
      ]
     },
     "execution_count": 119,
     "metadata": {},
     "output_type": "execute_result"
    }
   ],
   "source": [
    "df_90.groupby('province').points.mean().reset_index(name=\"mean_points\").sort_values('mean_points', ascending=False).head(10)"
   ]
  },
  {
   "attachments": {},
   "cell_type": "markdown",
   "metadata": {},
   "source": [
    "### Пропущенные значения."
   ]
  },
  {
   "cell_type": "code",
   "execution_count": 120,
   "metadata": {},
   "outputs": [
    {
     "name": "stdout",
     "output_type": "stream",
     "text": [
      "<class 'pandas.core.frame.DataFrame'>\n",
      "Index: 119929 entries, 1 to 119988\n",
      "Data columns (total 11 columns):\n",
      " #   Column       Non-Null Count   Dtype  \n",
      "---  ------       --------------   -----  \n",
      " 0   country      119929 non-null  object \n",
      " 1   variety      119928 non-null  object \n",
      " 2   winery       119929 non-null  object \n",
      " 3   designation  85394 non-null   object \n",
      " 4   points       119929 non-null  int64  \n",
      " 5   price        111538 non-null  float64\n",
      " 6   province     119929 non-null  object \n",
      " 7   region       100428 non-null  object \n",
      " 8   taster_name  95012 non-null   object \n",
      " 9   title        119929 non-null  object \n",
      " 10  description  119929 non-null  object \n",
      "dtypes: float64(1), int64(1), object(9)\n",
      "memory usage: 15.0+ MB\n"
     ]
    }
   ],
   "source": [
    "dataframe.info()"
   ]
  },
  {
   "attachments": {},
   "cell_type": "markdown",
   "metadata": {},
   "source": [
    "Пропущенные значения есть в колонках \"variety\", \"designation\", \"price\", \"region\", \"taster_name\"."
   ]
  },
  {
   "attachments": {},
   "cell_type": "markdown",
   "metadata": {},
   "source": [
    "*\"variety\"*"
   ]
  },
  {
   "attachments": {},
   "cell_type": "markdown",
   "metadata": {},
   "source": [
    "Это значение можно получить из колонки \"description\". Чобы видеть полное содержание её, добавим следующую опцию."
   ]
  },
  {
   "cell_type": "code",
   "execution_count": 121,
   "metadata": {},
   "outputs": [],
   "source": [
    "pd.set_option('display.max_colwidth', None)"
   ]
  },
  {
   "cell_type": "code",
   "execution_count": 122,
   "metadata": {},
   "outputs": [
    {
     "data": {
      "text/html": [
       "<div>\n",
       "<style scoped>\n",
       "    .dataframe tbody tr th:only-of-type {\n",
       "        vertical-align: middle;\n",
       "    }\n",
       "\n",
       "    .dataframe tbody tr th {\n",
       "        vertical-align: top;\n",
       "    }\n",
       "\n",
       "    .dataframe thead th {\n",
       "        text-align: right;\n",
       "    }\n",
       "</style>\n",
       "<table border=\"1\" class=\"dataframe\">\n",
       "  <thead>\n",
       "    <tr style=\"text-align: right;\">\n",
       "      <th></th>\n",
       "      <th>country</th>\n",
       "      <th>variety</th>\n",
       "      <th>winery</th>\n",
       "      <th>designation</th>\n",
       "      <th>points</th>\n",
       "      <th>price</th>\n",
       "      <th>province</th>\n",
       "      <th>region</th>\n",
       "      <th>taster_name</th>\n",
       "      <th>title</th>\n",
       "      <th>description</th>\n",
       "    </tr>\n",
       "    <tr>\n",
       "      <th>entry_id</th>\n",
       "      <th></th>\n",
       "      <th></th>\n",
       "      <th></th>\n",
       "      <th></th>\n",
       "      <th></th>\n",
       "      <th></th>\n",
       "      <th></th>\n",
       "      <th></th>\n",
       "      <th></th>\n",
       "      <th></th>\n",
       "      <th></th>\n",
       "    </tr>\n",
       "  </thead>\n",
       "  <tbody>\n",
       "    <tr>\n",
       "      <th>82318</th>\n",
       "      <td>Chile</td>\n",
       "      <td>NaN</td>\n",
       "      <td>Carmen</td>\n",
       "      <td>NaN</td>\n",
       "      <td>88</td>\n",
       "      <td>17.0</td>\n",
       "      <td>Maipo Valley</td>\n",
       "      <td>NaN</td>\n",
       "      <td>NaN</td>\n",
       "      <td>Carmen 1999  (Maipo Valley)</td>\n",
       "      <td>A chalky, dusty mouthfeel nicely balances this Petite Syrah's bright, full blackberry and blueberry fruit. Wheat-flour and black-pepper notes add interest to the bouquet; the wine finishes with herb and an acorny nuttiness. A good first Chilean wine for those more comfortable with the Californian style. It's got tannins to lose, but it's very good.</td>\n",
       "    </tr>\n",
       "  </tbody>\n",
       "</table>\n",
       "</div>"
      ],
      "text/plain": [
       "         country variety  winery designation  points  price      province   \n",
       "entry_id                                                                    \n",
       "82318      Chile     NaN  Carmen         NaN      88   17.0  Maipo Valley  \\\n",
       "\n",
       "         region taster_name                        title   \n",
       "entry_id                                                   \n",
       "82318       NaN         NaN  Carmen 1999  (Maipo Valley)  \\\n",
       "\n",
       "                                                                                                                                                                                                                                                                                                                                                             description  \n",
       "entry_id                                                                                                                                                                                                                                                                                                                                                                  \n",
       "82318     A chalky, dusty mouthfeel nicely balances this Petite Syrah's bright, full blackberry and blueberry fruit. Wheat-flour and black-pepper notes add interest to the bouquet; the wine finishes with herb and an acorny nuttiness. A good first Chilean wine for those more comfortable with the Californian style. It's got tannins to lose, but it's very good.  "
      ]
     },
     "execution_count": 122,
     "metadata": {},
     "output_type": "execute_result"
    }
   ],
   "source": [
    "dataframe[dataframe.variety.isnull()]"
   ]
  },
  {
   "attachments": {},
   "cell_type": "markdown",
   "metadata": {},
   "source": [
    "Из описания сорт винограда \"Petite Sirah\"."
   ]
  },
  {
   "cell_type": "code",
   "execution_count": 123,
   "metadata": {},
   "outputs": [],
   "source": [
    "dataframe.variety.fillna('Petite Sirah', inplace=True)"
   ]
  },
  {
   "attachments": {},
   "cell_type": "markdown",
   "metadata": {},
   "source": [
    "*\"designation\"*"
   ]
  },
  {
   "attachments": {},
   "cell_type": "markdown",
   "metadata": {},
   "source": [
    "Название виноградника можно получить из колонки \"title\" (вторая строка)."
   ]
  },
  {
   "cell_type": "code",
   "execution_count": 124,
   "metadata": {},
   "outputs": [],
   "source": [
    "designation_unique = dataframe[dataframe.designation.notnull()].designation.unique()"
   ]
  },
  {
   "cell_type": "code",
   "execution_count": 125,
   "metadata": {},
   "outputs": [],
   "source": [
    "for title_str in dataframe[dataframe.designation.isnull()].title:\n",
    "    for des in designation_unique:\n",
    "        if des in title_str:\n",
    "            dataframe.loc[dataframe.title==title_str, 'designation'] = des\n",
    "            break"
   ]
  },
  {
   "cell_type": "code",
   "execution_count": 126,
   "metadata": {},
   "outputs": [
    {
     "data": {
      "text/plain": [
       "0"
      ]
     },
     "execution_count": 126,
     "metadata": {},
     "output_type": "execute_result"
    }
   ],
   "source": [
    "sum(dataframe.designation.isnull())"
   ]
  },
  {
   "attachments": {},
   "cell_type": "markdown",
   "metadata": {},
   "source": [
    "Колонка заполнена."
   ]
  },
  {
   "attachments": {},
   "cell_type": "markdown",
   "metadata": {},
   "source": [
    "*\"region\"*"
   ]
  },
  {
   "attachments": {},
   "cell_type": "markdown",
   "metadata": {},
   "source": [
    "Регион указан в скобках колонки \"title\". Изучив датасет видно, что если регион отсутствует, то он будет такой же как провинция."
   ]
  },
  {
   "cell_type": "code",
   "execution_count": 127,
   "metadata": {},
   "outputs": [],
   "source": [
    "dataframe['region'].fillna(dataframe['province'], inplace=True)"
   ]
  },
  {
   "cell_type": "code",
   "execution_count": 128,
   "metadata": {},
   "outputs": [
    {
     "data": {
      "text/plain": [
       "0"
      ]
     },
     "execution_count": 128,
     "metadata": {},
     "output_type": "execute_result"
    }
   ],
   "source": [
    "sum(dataframe.region.isnull())"
   ]
  },
  {
   "attachments": {},
   "cell_type": "markdown",
   "metadata": {},
   "source": [
    "*\"taster_name\"*"
   ]
  },
  {
   "attachments": {},
   "cell_type": "markdown",
   "metadata": {},
   "source": [
    "Здесь будем отталкиваться от региона. Будем предполагать, что отзыв оставлял тот сомелье, который чаще всего работает в нём. Если для регионе не работал никакой сомелье, то выберем самого популярного в провинции и т.д."
   ]
  },
  {
   "cell_type": "code",
   "execution_count": 129,
   "metadata": {},
   "outputs": [],
   "source": [
    "taster_names = ['Kerin O’Keefe', 'Roger Voss', 'Paul Gregutt',\n",
    "                'Alexander Peartree', 'Michael Schachner', 'Anna Lee C. Iijima',\n",
    "                'Virginie Boone', 'Matt Kettmann', 'Sean P. Sullivan',\n",
    "                'Jim Gordon', 'Joe Czerwinski', 'Anne Krebiehl MW',\n",
    "                'Lauren Buzzeo', 'Mike DeSimone', 'Jeff Jenssen',\n",
    "                'Susan Kostrzewa', 'Carrie Dykes', 'Fiona Adams',\n",
    "                'Christina Pickard']"
   ]
  },
  {
   "cell_type": "code",
   "execution_count": 130,
   "metadata": {},
   "outputs": [],
   "source": [
    "# регион\n",
    "data = dataframe.groupby('region')['taster_name'].agg(pd.Series.mode).reset_index(name=\"new_name\")\n",
    "data = data[data.new_name.isin(taster_names)]\n",
    "dataframe = dataframe.merge(data, on='region', how='left')\n",
    "dataframe['taster_name'].fillna(dataframe['new_name'], inplace=True)\n",
    "dataframe = dataframe.drop(columns=['new_name'])"
   ]
  },
  {
   "cell_type": "code",
   "execution_count": 131,
   "metadata": {},
   "outputs": [],
   "source": [
    "# провинция\n",
    "data = dataframe.groupby('province')['taster_name'].agg(pd.Series.mode).reset_index(name=\"new_name\")\n",
    "data = data[data.new_name.isin(taster_names)]\n",
    "dataframe = dataframe.merge(data, on='province', how='left')\n",
    "dataframe['taster_name'].fillna(dataframe['new_name'], inplace=True)\n",
    "dataframe = dataframe.drop(columns=['new_name'])"
   ]
  },
  {
   "cell_type": "code",
   "execution_count": 132,
   "metadata": {},
   "outputs": [],
   "source": [
    "# страна\n",
    "data = dataframe.groupby('country')['taster_name'].agg(pd.Series.mode).reset_index(name=\"new_name\")\n",
    "data = data[data.new_name.isin(taster_names)]\n",
    "dataframe = dataframe.merge(data, on='country', how='left')\n",
    "dataframe['taster_name'].fillna(dataframe['new_name'], inplace=True)\n",
    "dataframe = dataframe.drop(columns=['new_name'])"
   ]
  },
  {
   "cell_type": "code",
   "execution_count": 133,
   "metadata": {},
   "outputs": [
    {
     "data": {
      "text/plain": [
       "0"
      ]
     },
     "execution_count": 133,
     "metadata": {},
     "output_type": "execute_result"
    }
   ],
   "source": [
    "sum(dataframe.taster_name.isnull())"
   ]
  },
  {
   "attachments": {},
   "cell_type": "markdown",
   "metadata": {},
   "source": [
    "**Новая колонка *\"year\"***"
   ]
  },
  {
   "attachments": {},
   "cell_type": "markdown",
   "metadata": {},
   "source": [
    "Из \"title\" было бы хорошо получить год урожая. Это было бы просто, но в этой колонке иногда содеждатся 4-х значные числа, которые не имеют отношения к году. Однако мы знаем, что год написан после названия винодельни и перед названием виноградника. Таким образом, если мы удали эти названия, то оставшиеся 4 цифры будут годом."
   ]
  },
  {
   "cell_type": "code",
   "execution_count": 134,
   "metadata": {},
   "outputs": [],
   "source": [
    "dataframe['year'] = ''\n",
    "for title_str, winery_str, designation_str  in zip(dataframe.title, dataframe.winery, dataframe.designation):\n",
    "    title_str_new = title_str.replace(winery_str, '')\n",
    "    title_str_new = title_str_new.replace(designation_str, '')\n",
    "    dataframe.loc[dataframe.title==title_str, 'year'] = title_str_new"
   ]
  },
  {
   "cell_type": "code",
   "execution_count": 135,
   "metadata": {},
   "outputs": [],
   "source": [
    "dataframe['year'] = dataframe.year.str.extract(r'(\\d{4})')"
   ]
  },
  {
   "attachments": {},
   "cell_type": "markdown",
   "metadata": {},
   "source": [
    "Здесь остануться незаполненные значения, так что оставим их как \"NV\". Если бы в описании было указанно, почему эти значения отсутствуют, то можно было бы подумать о том, чем их заполнять, но мы так и оставим."
   ]
  },
  {
   "cell_type": "code",
   "execution_count": 136,
   "metadata": {},
   "outputs": [],
   "source": [
    "dataframe.year.fillna('NV', inplace=True)"
   ]
  },
  {
   "cell_type": "code",
   "execution_count": 137,
   "metadata": {},
   "outputs": [
    {
     "data": {
      "text/plain": [
       "0"
      ]
     },
     "execution_count": 137,
     "metadata": {},
     "output_type": "execute_result"
    }
   ],
   "source": [
    "sum(dataframe.year.isnull())"
   ]
  },
  {
   "attachments": {},
   "cell_type": "markdown",
   "metadata": {},
   "source": [
    "*\"price\"*"
   ]
  },
  {
   "attachments": {},
   "cell_type": "markdown",
   "metadata": {},
   "source": [
    "Переменную \"price\" можно рассмотреть как целевую. Так как нашей основной задачей не является точное предсказание этой переменной, то построим простую модель, где цена будет зависеть лишь от баллов."
   ]
  },
  {
   "cell_type": "code",
   "execution_count": 138,
   "metadata": {},
   "outputs": [],
   "source": [
    "X = dataframe[dataframe.price.notnull()][['points']]\n",
    "y = dataframe[dataframe.price.notnull()].price\n",
    "X_test = dataframe[dataframe.price.isnull()][['points']]"
   ]
  },
  {
   "cell_type": "code",
   "execution_count": 139,
   "metadata": {},
   "outputs": [],
   "source": [
    "X_train, X_val, y_train, y_val = train_test_split(X, y, test_size=0.2, random_state=23)"
   ]
  },
  {
   "cell_type": "code",
   "execution_count": 140,
   "metadata": {},
   "outputs": [],
   "source": [
    "model = CatBoostRegressor(random_state=23)\n",
    "model.fit(X_train, y_train, verbose=False, plot=False);"
   ]
  },
  {
   "attachments": {},
   "cell_type": "markdown",
   "metadata": {},
   "source": [
    "Проверим правильность модели."
   ]
  },
  {
   "cell_type": "code",
   "execution_count": 141,
   "metadata": {},
   "outputs": [
    {
     "data": {
      "text/plain": [
       "0.2232423474941434"
      ]
     },
     "execution_count": 141,
     "metadata": {},
     "output_type": "execute_result"
    }
   ],
   "source": [
    "r2_score(y_val, model.predict(X_val))"
   ]
  },
  {
   "attachments": {},
   "cell_type": "markdown",
   "metadata": {},
   "source": [
    "Получим предсказания цены."
   ]
  },
  {
   "cell_type": "code",
   "execution_count": 142,
   "metadata": {},
   "outputs": [],
   "source": [
    "y_pred = model.predict(X_test)"
   ]
  },
  {
   "attachments": {},
   "cell_type": "markdown",
   "metadata": {},
   "source": [
    "Осталось лишь добавить эти данные в датасет, что не составит труда при необходимости."
   ]
  }
 ],
 "metadata": {
  "kernelspec": {
   "display_name": "Python 3",
   "language": "python",
   "name": "python3"
  },
  "language_info": {
   "codemirror_mode": {
    "name": "ipython",
    "version": 3
   },
   "file_extension": ".py",
   "mimetype": "text/x-python",
   "name": "python",
   "nbconvert_exporter": "python",
   "pygments_lexer": "ipython3",
   "version": "3.11.3"
  },
  "orig_nbformat": 4
 },
 "nbformat": 4,
 "nbformat_minor": 2
}
